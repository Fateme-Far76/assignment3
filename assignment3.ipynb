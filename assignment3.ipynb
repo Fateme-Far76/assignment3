{
 "cells": [
  {
   "cell_type": "code",
   "execution_count": 1,
   "metadata": {},
   "outputs": [
    {
     "name": "stdout",
     "output_type": "stream",
     "text": [
      "[2, 4, 6, 8, 10]\n"
     ]
    }
   ],
   "source": [
    "def apply_function_to_list(data, func):\n",
    "    result = []\n",
    "    for item in data:\n",
    "        result.append(func(item))\n",
    "    return result\n",
    "\n",
    "def multiply_by_two(value):\n",
    "    return value * 2\n",
    "\n",
    "data = [1, 2, 3, 4, 5]\n",
    "result = apply_function_to_list(data, multiply_by_two)\n",
    "print(result)  "
   ]
  },
  {
   "cell_type": "code",
   "execution_count": 3,
   "metadata": {},
   "outputs": [],
   "source": [
    "def apply_functions(data, *functions): \n",
    "    return [[f(x) for x in data] for f in functions]\n"
   ]
  },
  {
   "cell_type": "code",
   "execution_count": 4,
   "metadata": {},
   "outputs": [
    {
     "name": "stdout",
     "output_type": "stream",
     "text": [
      "[[2, 4, 6, 8, 10], [1, 4, 9, 16, 25]]\n"
     ]
    }
   ],
   "source": [
    " \n",
    "data = [1, 2, 3, 4, 5]\n",
    "multiply_by_two = lambda x: x * 2\n",
    "square = lambda x: x ** 2 \n",
    "result = apply_functions(data, multiply_by_two, square)\n",
    "print(result)\n"
   ]
  }
 ],
 "metadata": {
  "kernelspec": {
   "display_name": "base",
   "language": "python",
   "name": "python3"
  },
  "language_info": {
   "codemirror_mode": {
    "name": "ipython",
    "version": 3
   },
   "file_extension": ".py",
   "mimetype": "text/x-python",
   "name": "python",
   "nbconvert_exporter": "python",
   "pygments_lexer": "ipython3",
   "version": "3.9.13"
  },
  "orig_nbformat": 4
 },
 "nbformat": 4,
 "nbformat_minor": 2
}
